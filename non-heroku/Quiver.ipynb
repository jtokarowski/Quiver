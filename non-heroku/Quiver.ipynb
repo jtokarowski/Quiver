{
 "cells": [
  {
   "cell_type": "code",
   "execution_count": 110,
   "metadata": {},
   "outputs": [],
   "source": [
    "#grab the required packages\n",
    "#%pip install pandas\n",
    "#%pip install FRB\n",
    "\n",
    "from fred import Fred\n",
    "#https://frb.readthedocs.io/en/latest/usage.html#id1\n",
    "\n",
    "import pandas as pd\n",
    "import os\n",
    "import json\n",
    "\n",
    "#TODO: create JSON HOF to wrap every call in the conversion to json observations =  json.dumps(json.loads(fr.series.observations('MORTGAGE30US'))['observations'])\n",
    "\n",
    "#FRED API KEY LOAD\n",
    "API_KEY = os.environ.get('FRED_API_KEY')\n",
    "\n",
    "#INIT THE CLIENT\n",
    "fr = Fred(api_key=API_KEY,response_type='json')\n",
    "\n"
   ]
  },
  {
   "cell_type": "code",
   "execution_count": 111,
   "metadata": {},
   "outputs": [
    {
     "name": "stdout",
     "output_type": "stream",
     "text": [
      "{\"categories\":[{\"id\":32300,\"name\":\"Housing Units Authorized by Building Permits\",\"parent_id\":97},{\"id\":32301,\"name\":\"Housing Units Authorized, But Not Yet Started\",\"parent_id\":97},{\"id\":32302,\"name\":\"Housing Starts\",\"parent_id\":97},{\"id\":32303,\"name\":\"Housing Units Under Construction\",\"parent_id\":97},{\"id\":32304,\"name\":\"Housing Units Completed\",\"parent_id\":97},{\"id\":32426,\"name\":\"New Residential Sales\",\"parent_id\":97},{\"id\":33949,\"name\":\"Manufactured Housing\",\"parent_id\":97}]}\n",
      "{\"categories\":[{\"id\":32302,\"name\":\"Housing Starts\",\"parent_id\":97}]}\n",
      "{'id': 'HOUST', 'realtime_start': '2023-01-18', 'realtime_end': '2023-01-18', 'title': 'New Privately-Owned Housing Units Started: Total Units', 'observation_start': '1959-01-01', 'observation_end': '2022-11-01', 'frequency': 'Monthly', 'frequency_short': 'M', 'units': 'Thousands of Units', 'units_short': 'Thous. of Units', 'seasonal_adjustment': 'Seasonally Adjusted Annual Rate', 'seasonal_adjustment_short': 'SAAR', 'last_updated': '2022-12-20 09:38:01-06', 'popularity': 79, 'group_popularity': 80, 'notes': 'As provided by the Census, start occurs when excavation begins for the footings or foundation of a building. All housing units in a multifamily building are defined as being started when this excavation begins. Beginning with data for September 1992, estimates of housing starts include units in structures being totally rebuilt on an existing foundation.'}\n"
     ]
    }
   ],
   "source": [
    "#parent level category\n",
    "res = fr.category.details(97)\n",
    "\n",
    "#list all metrics available in the housing category\n",
    "print(fr.category.children(97))\n",
    "\n",
    "#housing starts category\n",
    "print(fr.category.details(32302))\n",
    "\n",
    "\n",
    "#list all series available in this category\n",
    "res = json.loads(fr.category.series(32302))\n",
    "#target the seriess object and select housing starts (the first in the list)\n",
    "print(res[\"seriess\"][0])\n",
    "\n"
   ]
  },
  {
   "cell_type": "code",
   "execution_count": 97,
   "metadata": {},
   "outputs": [
    {
     "name": "stdout",
     "output_type": "stream",
     "text": [
      "            HOUSING_STARTS\n",
      "date                      \n",
      "1959-01-01            1657\n",
      "1959-01-02            1657\n",
      "1959-01-03            1657\n",
      "1959-01-04            1657\n",
      "1959-01-05            1657\n"
     ]
    }
   ],
   "source": [
    "#call the historical housing starts series\n",
    "observations = json.dumps(json.loads(fr.series.observations('HOUST'))['observations'])\n",
    "HOUST_DF = pd.read_json(observations)\n",
    "#convert date strings to proper datetimes\n",
    "HOUST_DF['date'] = pd.to_datetime(HOUST_DF['date'])\n",
    "HOUST_DF.columns = ['realtime_start', 'realtime_end', 'date', 'HOUSING_STARTS']\n",
    "HOUST_DF.drop(axis=1, columns=['realtime_start','realtime_end'], inplace=True)\n",
    "HOUST_DF.set_index(\"date\", inplace=True)\n",
    "HOUST_DF = HOUST_DF.resample('D').ffill() #this forward fills the previous value up until a new value exists\n",
    "\n",
    "print(HOUST_DF.head())"
   ]
  },
  {
   "cell_type": "code",
   "execution_count": 108,
   "metadata": {},
   "outputs": [
    {
     "name": "stdout",
     "output_type": "stream",
     "text": [
      "            MTG_RATE\n",
      "date                \n",
      "1971-04-02      7.33\n",
      "1971-04-03      7.33\n",
      "1971-04-04      7.33\n",
      "1971-04-05      7.33\n",
      "1971-04-06      7.33\n"
     ]
    }
   ],
   "source": [
    "#call historical mortgage rates\n",
    "observations = json.dumps(json.loads(fr.series.observations('MORTGAGE30US'))['observations'])\n",
    "MTG_DF = pd.read_json(observations) \n",
    "MTG_DF.columns = ['realtime_start', 'realtime_end', 'date', 'MTG_RATE']\n",
    "\n",
    "#convert date strings to proper datetimes\n",
    "MTG_DF['date'] = pd.to_datetime(MTG_DF['date'])\n",
    "MTG_DF.columns = ['realtime_start', 'realtime_end', 'date', 'MTG_RATE']\n",
    "MTG_DF.drop(axis=1, columns=['realtime_start','realtime_end'], inplace=True)\n",
    "MTG_DF.set_index('date', inplace=True)\n",
    "# using the resample method\n",
    "# https://pandas.pydata.org/docs/reference/api/pandas.core.resample.Resampler.fillna.html\n",
    "MTG_DF = MTG_DF.resample('D').ffill() #this forward fills the previous value up until a new value exists\n",
    "\n",
    "#MTG_DF = MTG_DF.resample('M').ffill() #monthly downsample\n",
    "print(MTG_DF.head())"
   ]
  },
  {
   "cell_type": "code",
   "execution_count": 109,
   "metadata": {},
   "outputs": [
    {
     "name": "stdout",
     "output_type": "stream",
     "text": [
      "            MTG_RATE  HOUSING_STARTS\n",
      "date                                \n",
      "1971-04-02      7.33            1986\n",
      "1971-04-03      7.33            1986\n",
      "1971-04-04      7.33            1986\n",
      "1971-04-05      7.33            1986\n",
      "1971-04-06      7.33            1986\n",
      "...              ...             ...\n",
      "2022-10-28      7.08            1434\n",
      "2022-10-29      7.08            1434\n",
      "2022-10-30      7.08            1434\n",
      "2022-10-31      7.08            1434\n",
      "2022-11-01      7.08            1427\n",
      "\n",
      "[18842 rows x 2 columns]\n"
     ]
    }
   ],
   "source": [
    "#merge dataframes\n",
    "MAIN_FRAME = pd.merge(MTG_DF, HOUST_DF, left_index=True, right_index=True)\n",
    "#TODO: reindexed data should use max and min of all retrieved datasets\n",
    "\n",
    "print(MAIN_FRAME)\n"
   ]
  },
  {
   "cell_type": "code",
   "execution_count": 88,
   "metadata": {},
   "outputs": [],
   "source": [
    "#TODO: add search\n",
    "\n",
    "# params = {\n",
    "#          'limit':2,\n",
    "#          }\n",
    "\n",
    "# res = fr.series.search('money service index',params=params)\n",
    "# print res"
   ]
  }
 ],
 "metadata": {
  "kernelspec": {
   "display_name": "base",
   "language": "python",
   "name": "python3"
  },
  "language_info": {
   "codemirror_mode": {
    "name": "ipython",
    "version": 3
   },
   "file_extension": ".py",
   "mimetype": "text/x-python",
   "name": "python",
   "nbconvert_exporter": "python",
   "pygments_lexer": "ipython3",
   "version": "3.8.3"
  },
  "vscode": {
   "interpreter": {
    "hash": "1d1ad25b9f47d2dd8c4c131cc3b642f4936352b92cd4ebf7a7c271d0de48bdb6"
   }
  }
 },
 "nbformat": 4,
 "nbformat_minor": 4
}
