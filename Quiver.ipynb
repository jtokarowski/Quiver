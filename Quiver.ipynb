{
 "cells": [
  {
   "cell_type": "code",
   "execution_count": 1,
   "metadata": {},
   "outputs": [],
   "source": [
    "#grab the required packages\n",
    "import pandas as pd"
   ]
  },
  {
   "cell_type": "code",
   "execution_count": 10,
   "metadata": {},
   "outputs": [],
   "source": [
    "#load a CSV into a dataframe\n",
    "housing_inventory = pd.read_csv(\"ETOTALUSQ176N.csv\")"
   ]
  },
  {
   "cell_type": "code",
   "execution_count": 11,
   "metadata": {},
   "outputs": [
    {
     "name": "stdout",
     "output_type": "stream",
     "text": [
      "                 FRED Graph Observations Unnamed: 1\n",
      "0          Federal Reserve Economic Data        NaN\n",
      "1      Link: https://fred.stlouisfed.org        NaN\n",
      "2  Help: https://fredhelp.stlouisfed.org        NaN\n",
      "3             Economic Research Division        NaN\n",
      "4      Federal Reserve Bank of St. Louis        NaN\n"
     ]
    }
   ],
   "source": [
    "print(housing_inventory.head())"
   ]
  }
 ],
 "metadata": {
  "kernelspec": {
   "display_name": "Python 3",
   "language": "python",
   "name": "python3"
  },
  "language_info": {
   "codemirror_mode": {
    "name": "ipython",
    "version": 3
   },
   "file_extension": ".py",
   "mimetype": "text/x-python",
   "name": "python",
   "nbconvert_exporter": "python",
   "pygments_lexer": "ipython3",
   "version": "3.8.3"
  }
 },
 "nbformat": 4,
 "nbformat_minor": 4
}
