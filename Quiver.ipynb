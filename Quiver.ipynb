{
 "cells": [
  {
   "cell_type": "code",
   "execution_count": 24,
   "metadata": {},
   "outputs": [
    {
     "name": "stdout",
     "output_type": "stream",
     "text": [
      "{\"categories\":[{\"id\":32300,\"name\":\"Housing Units Authorized by Building Permits\",\"parent_id\":97},{\"id\":32301,\"name\":\"Housing Units Authorized, But Not Yet Started\",\"parent_id\":97},{\"id\":32302,\"name\":\"Housing Starts\",\"parent_id\":97},{\"id\":32303,\"name\":\"Housing Units Under Construction\",\"parent_id\":97},{\"id\":32304,\"name\":\"Housing Units Completed\",\"parent_id\":97},{\"id\":32426,\"name\":\"New Residential Sales\",\"parent_id\":97},{\"id\":33949,\"name\":\"Manufactured Housing\",\"parent_id\":97}]}\n",
      "{\"categories\":[{\"id\":32302,\"name\":\"Housing Starts\",\"parent_id\":97}]}\n",
      "{'id': 'HOUST', 'realtime_start': '2023-01-14', 'realtime_end': '2023-01-14', 'title': 'New Privately-Owned Housing Units Started: Total Units', 'observation_start': '1959-01-01', 'observation_end': '2022-11-01', 'frequency': 'Monthly', 'frequency_short': 'M', 'units': 'Thousands of Units', 'units_short': 'Thous. of Units', 'seasonal_adjustment': 'Seasonally Adjusted Annual Rate', 'seasonal_adjustment_short': 'SAAR', 'last_updated': '2022-12-20 09:38:01-06', 'popularity': 79, 'group_popularity': 80, 'notes': 'As provided by the Census, start occurs when excavation begins for the footings or foundation of a building. All housing units in a multifamily building are defined as being started when this excavation begins. Beginning with data for September 1992, estimates of housing starts include units in structures being totally rebuilt on an existing foundation.'}\n"
     ]
    }
   ],
   "source": [
    "#grab the required packages\n",
    "#%pip install pandas\n",
    "#%pip install FRB\n",
    "\n",
    "from fred import Fred\n",
    "#https://frb.readthedocs.io/en/latest/usage.html#id1\n",
    "\n",
    "import pandas as pd\n",
    "import os\n",
    "import json\n",
    "\n",
    "#TODO: create JSON HOF to wrap every call in the conversion to json observations =  json.dumps(json.loads(fr.series.observations('MORTGAGE30US'))['observations'])\n",
    "\n",
    "#FRED API KEY LOAD\n",
    "API_KEY = os.environ.get('FRED_API_KEY')\n",
    "\n",
    "#INIT THE CLIENT\n",
    "fr = Fred(api_key=API_KEY,response_type='json')\n",
    "\n"
   ]
  },
  {
   "cell_type": "code",
   "execution_count": 26,
   "metadata": {},
   "outputs": [
    {
     "name": "stdout",
     "output_type": "stream",
     "text": [
      "{\"categories\":[{\"id\":32300,\"name\":\"Housing Units Authorized by Building Permits\",\"parent_id\":97},{\"id\":32301,\"name\":\"Housing Units Authorized, But Not Yet Started\",\"parent_id\":97},{\"id\":32302,\"name\":\"Housing Starts\",\"parent_id\":97},{\"id\":32303,\"name\":\"Housing Units Under Construction\",\"parent_id\":97},{\"id\":32304,\"name\":\"Housing Units Completed\",\"parent_id\":97},{\"id\":32426,\"name\":\"New Residential Sales\",\"parent_id\":97},{\"id\":33949,\"name\":\"Manufactured Housing\",\"parent_id\":97}]}\n",
      "{\"categories\":[{\"id\":32302,\"name\":\"Housing Starts\",\"parent_id\":97}]}\n",
      "{'id': 'HOUST', 'realtime_start': '2023-01-14', 'realtime_end': '2023-01-14', 'title': 'New Privately-Owned Housing Units Started: Total Units', 'observation_start': '1959-01-01', 'observation_end': '2022-11-01', 'frequency': 'Monthly', 'frequency_short': 'M', 'units': 'Thousands of Units', 'units_short': 'Thous. of Units', 'seasonal_adjustment': 'Seasonally Adjusted Annual Rate', 'seasonal_adjustment_short': 'SAAR', 'last_updated': '2022-12-20 09:38:01-06', 'popularity': 79, 'group_popularity': 80, 'notes': 'As provided by the Census, start occurs when excavation begins for the footings or foundation of a building. All housing units in a multifamily building are defined as being started when this excavation begins. Beginning with data for September 1992, estimates of housing starts include units in structures being totally rebuilt on an existing foundation.'}\n",
      "{'realtime_start': '2023-01-14', 'realtime_end': '2023-01-14', 'order_by': 'series_id', 'sort_order': 'asc', 'count': 0, 'offset': 0, 'limit': 1000, 'seriess': []}\n"
     ]
    }
   ],
   "source": [
    "#parent level category\n",
    "res = fr.category.details(97)\n",
    "\n",
    "#list all metrics available in the housing category\n",
    "print(fr.category.children(97))\n",
    "\n",
    "#housing starts category\n",
    "print(fr.category.details(32302))\n",
    "\n",
    "\n",
    "#list all series available in this category\n",
    "res = json.loads(fr.category.series(32302))\n",
    "#target the seriess object and select housing starts (the first in the list)\n",
    "print(res[\"seriess\"][0])\n",
    "\n"
   ]
  },
  {
   "cell_type": "code",
   "execution_count": 40,
   "metadata": {},
   "outputs": [
    {
     "name": "stdout",
     "output_type": "stream",
     "text": [
      "  realtime_start realtime_end       date  value\n",
      "0     2023-01-14   2023-01-14 1959-01-01   1657\n",
      "1     2023-01-14   2023-01-14 1959-02-01   1667\n",
      "2     2023-01-14   2023-01-14 1959-03-01   1620\n",
      "3     2023-01-14   2023-01-14 1959-04-01   1590\n",
      "4     2023-01-14   2023-01-14 1959-05-01   1498\n"
     ]
    }
   ],
   "source": [
    "#call the historical housing starts series\n",
    "observations = json.dumps(json.loads(fr.series.observations('HOUST'))['observations'])\n",
    "\n",
    "HOUST_DF = pd.read_json(observations) \n",
    "print(HOUST_DF.head())\n",
    "\n",
    "\n"
   ]
  },
  {
   "cell_type": "code",
   "execution_count": 42,
   "metadata": {},
   "outputs": [
    {
     "name": "stdout",
     "output_type": "stream",
     "text": [
      "  realtime_start realtime_end       date  value\n",
      "0     2023-01-14   2023-01-14 1971-04-02   7.33\n",
      "1     2023-01-14   2023-01-14 1971-04-09   7.31\n",
      "2     2023-01-14   2023-01-14 1971-04-16   7.31\n",
      "3     2023-01-14   2023-01-14 1971-04-23   7.31\n",
      "4     2023-01-14   2023-01-14 1971-04-30   7.29\n"
     ]
    }
   ],
   "source": [
    "#call historical mortgage rates\n",
    "observations = json.dumps(json.loads(fr.series.observations('MORTGAGE30US'))['observations'])\n",
    "MTG_DF = pd.read_json(observations) \n",
    "print(MTG_DF.head())\n"
   ]
  }
 ],
 "metadata": {
  "kernelspec": {
   "display_name": "base",
   "language": "python",
   "name": "python3"
  },
  "language_info": {
   "codemirror_mode": {
    "name": "ipython",
    "version": 3
   },
   "file_extension": ".py",
   "mimetype": "text/x-python",
   "name": "python",
   "nbconvert_exporter": "python",
   "pygments_lexer": "ipython3",
   "version": "3.8.3"
  },
  "vscode": {
   "interpreter": {
    "hash": "1d1ad25b9f47d2dd8c4c131cc3b642f4936352b92cd4ebf7a7c271d0de48bdb6"
   }
  }
 },
 "nbformat": 4,
 "nbformat_minor": 4
}
