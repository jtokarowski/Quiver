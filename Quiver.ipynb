{
 "cells": [
  {
   "cell_type": "code",
   "execution_count": 83,
   "metadata": {},
   "outputs": [],
   "source": [
    "#grab the required packages\n",
    "#%pip install pandas\n",
    "#%pip install FRB\n",
    "\n",
    "from fred import Fred\n",
    "#https://frb.readthedocs.io/en/latest/usage.html#id1\n",
    "\n",
    "import pandas as pd\n",
    "import os\n",
    "import json\n",
    "\n",
    "#TODO: create JSON HOF to wrap every call in the conversion to json observations =  json.dumps(json.loads(fr.series.observations('MORTGAGE30US'))['observations'])\n",
    "\n",
    "#FRED API KEY LOAD\n",
    "API_KEY = os.environ.get('FRED_API_KEY')\n",
    "\n",
    "#INIT THE CLIENT\n",
    "fr = Fred(api_key=API_KEY,response_type='json')\n",
    "\n"
   ]
  },
  {
   "cell_type": "code",
   "execution_count": 84,
   "metadata": {},
   "outputs": [
    {
     "name": "stdout",
     "output_type": "stream",
     "text": [
      "{\"categories\":[{\"id\":32300,\"name\":\"Housing Units Authorized by Building Permits\",\"parent_id\":97},{\"id\":32301,\"name\":\"Housing Units Authorized, But Not Yet Started\",\"parent_id\":97},{\"id\":32302,\"name\":\"Housing Starts\",\"parent_id\":97},{\"id\":32303,\"name\":\"Housing Units Under Construction\",\"parent_id\":97},{\"id\":32304,\"name\":\"Housing Units Completed\",\"parent_id\":97},{\"id\":32426,\"name\":\"New Residential Sales\",\"parent_id\":97},{\"id\":33949,\"name\":\"Manufactured Housing\",\"parent_id\":97}]}\n",
      "{\"categories\":[{\"id\":32302,\"name\":\"Housing Starts\",\"parent_id\":97}]}\n",
      "{'id': 'HOUST', 'realtime_start': '2023-01-18', 'realtime_end': '2023-01-18', 'title': 'New Privately-Owned Housing Units Started: Total Units', 'observation_start': '1959-01-01', 'observation_end': '2022-11-01', 'frequency': 'Monthly', 'frequency_short': 'M', 'units': 'Thousands of Units', 'units_short': 'Thous. of Units', 'seasonal_adjustment': 'Seasonally Adjusted Annual Rate', 'seasonal_adjustment_short': 'SAAR', 'last_updated': '2022-12-20 09:38:01-06', 'popularity': 79, 'group_popularity': 80, 'notes': 'As provided by the Census, start occurs when excavation begins for the footings or foundation of a building. All housing units in a multifamily building are defined as being started when this excavation begins. Beginning with data for September 1992, estimates of housing starts include units in structures being totally rebuilt on an existing foundation.'}\n"
     ]
    }
   ],
   "source": [
    "#parent level category\n",
    "res = fr.category.details(97)\n",
    "\n",
    "#list all metrics available in the housing category\n",
    "print(fr.category.children(97))\n",
    "\n",
    "#housing starts category\n",
    "print(fr.category.details(32302))\n",
    "\n",
    "\n",
    "#list all series available in this category\n",
    "res = json.loads(fr.category.series(32302))\n",
    "#target the seriess object and select housing starts (the first in the list)\n",
    "print(res[\"seriess\"][0])\n",
    "\n"
   ]
  },
  {
   "cell_type": "code",
   "execution_count": 97,
   "metadata": {},
   "outputs": [
    {
     "name": "stdout",
     "output_type": "stream",
     "text": [
      "            HOUSING_STARTS\n",
      "date                      \n",
      "1959-01-01            1657\n",
      "1959-01-02            1657\n",
      "1959-01-03            1657\n",
      "1959-01-04            1657\n",
      "1959-01-05            1657\n"
     ]
    }
   ],
   "source": [
    "#call the historical housing starts series\n",
    "observations = json.dumps(json.loads(fr.series.observations('HOUST'))['observations'])\n",
    "HOUST_DF = pd.read_json(observations)\n",
    "#convert date strings to proper datetimes\n",
    "HOUST_DF['date'] = pd.to_datetime(HOUST_DF['date'])\n",
    "HOUST_DF.columns = ['realtime_start', 'realtime_end', 'date', 'HOUSING_STARTS']\n",
    "HOUST_DF.drop(axis=1, columns=['realtime_start','realtime_end'], inplace=True)\n",
    "HOUST_DF.set_index(\"date\", inplace=True)\n",
    "HOUST_DF = HOUST_DF.resample('D').ffill() #this forward fills the previous value up until a new value exists\n",
    "\n",
    "print(HOUST_DF.head())"
   ]
  },
  {
   "cell_type": "code",
   "execution_count": 99,
   "metadata": {},
   "outputs": [
    {
     "name": "stdout",
     "output_type": "stream",
     "text": [
      "            HOUSING_STARTS\n",
      "date                      \n",
      "1971-04-02            7.33\n",
      "1971-04-03            7.33\n",
      "1971-04-04            7.33\n",
      "1971-04-05            7.33\n",
      "1971-04-06            7.33\n"
     ]
    }
   ],
   "source": [
    "#call historical mortgage rates\n",
    "observations = json.dumps(json.loads(fr.series.observations('MORTGAGE30US'))['observations'])\n",
    "MTG_DF = pd.read_json(observations) \n",
    "MTG_DF.columns = ['realtime_start', 'realtime_end', 'date', 'MTG_RATE']\n",
    "\n",
    "#convert date strings to proper datetimes\n",
    "MTG_DF['date'] = pd.to_datetime(MTG_DF['date'])\n",
    "MTG_DF.columns = ['realtime_start', 'realtime_end', 'date', 'HOUSING_STARTS']\n",
    "MTG_DF.drop(axis=1, columns=['realtime_start','realtime_end'], inplace=True)\n",
    "MTG_DF.set_index('date', inplace=True)\n",
    "# using the resample method\n",
    "# https://pandas.pydata.org/docs/reference/api/pandas.core.resample.Resampler.fillna.html\n",
    "MTG_DF = MTG_DF.resample('D').ffill() #this forward fills the previous value up until a new value exists\n",
    "\n",
    "#MTG_DF = MTG_DF.resample('M').ffill() #monthly downsample\n",
    "print(MTG_DF.head())"
   ]
  },
  {
   "cell_type": "code",
   "execution_count": 105,
   "metadata": {},
   "outputs": [
    {
     "ename": "MergeError",
     "evalue": "Must pass right_on or right_index=True",
     "output_type": "error",
     "traceback": [
      "\u001b[0;31m---------------------------------------------------------------------------\u001b[0m",
      "\u001b[0;31mMergeError\u001b[0m                                Traceback (most recent call last)",
      "Cell \u001b[0;32mIn[105], line 2\u001b[0m\n\u001b[1;32m      1\u001b[0m \u001b[39m#merge dataframes\u001b[39;00m\n\u001b[0;32m----> 2\u001b[0m MAIN_FRAME \u001b[39m=\u001b[39m pd\u001b[39m.\u001b[39;49mmerge(MTG_DF, HOUST_DF, left_index\u001b[39m=\u001b[39;49m\u001b[39mTrue\u001b[39;49;00m)\n\u001b[1;32m      4\u001b[0m \u001b[39mprint\u001b[39m(MAIN_FRAME)\n",
      "File \u001b[0;32m~/opt/anaconda3/lib/python3.8/site-packages/pandas/core/reshape/merge.py:73\u001b[0m, in \u001b[0;36mmerge\u001b[0;34m(left, right, how, on, left_on, right_on, left_index, right_index, sort, suffixes, copy, indicator, validate)\u001b[0m\n\u001b[1;32m     56\u001b[0m \u001b[39m@Substitution\u001b[39m(\u001b[39m\"\u001b[39m\u001b[39m\\n\u001b[39;00m\u001b[39mleft : DataFrame\u001b[39m\u001b[39m\"\u001b[39m)\n\u001b[1;32m     57\u001b[0m \u001b[39m@Appender\u001b[39m(_merge_doc, indents\u001b[39m=\u001b[39m\u001b[39m0\u001b[39m)\n\u001b[1;32m     58\u001b[0m \u001b[39mdef\u001b[39;00m \u001b[39mmerge\u001b[39m(\n\u001b[0;32m   (...)\u001b[0m\n\u001b[1;32m     71\u001b[0m     validate\u001b[39m=\u001b[39m\u001b[39mNone\u001b[39;00m,\n\u001b[1;32m     72\u001b[0m ) \u001b[39m-\u001b[39m\u001b[39m>\u001b[39m \u001b[39m\"\u001b[39m\u001b[39mDataFrame\u001b[39m\u001b[39m\"\u001b[39m:\n\u001b[0;32m---> 73\u001b[0m     op \u001b[39m=\u001b[39m _MergeOperation(\n\u001b[1;32m     74\u001b[0m         left,\n\u001b[1;32m     75\u001b[0m         right,\n\u001b[1;32m     76\u001b[0m         how\u001b[39m=\u001b[39;49mhow,\n\u001b[1;32m     77\u001b[0m         on\u001b[39m=\u001b[39;49mon,\n\u001b[1;32m     78\u001b[0m         left_on\u001b[39m=\u001b[39;49mleft_on,\n\u001b[1;32m     79\u001b[0m         right_on\u001b[39m=\u001b[39;49mright_on,\n\u001b[1;32m     80\u001b[0m         left_index\u001b[39m=\u001b[39;49mleft_index,\n\u001b[1;32m     81\u001b[0m         right_index\u001b[39m=\u001b[39;49mright_index,\n\u001b[1;32m     82\u001b[0m         sort\u001b[39m=\u001b[39;49msort,\n\u001b[1;32m     83\u001b[0m         suffixes\u001b[39m=\u001b[39;49msuffixes,\n\u001b[1;32m     84\u001b[0m         copy\u001b[39m=\u001b[39;49mcopy,\n\u001b[1;32m     85\u001b[0m         indicator\u001b[39m=\u001b[39;49mindicator,\n\u001b[1;32m     86\u001b[0m         validate\u001b[39m=\u001b[39;49mvalidate,\n\u001b[1;32m     87\u001b[0m     )\n\u001b[1;32m     88\u001b[0m     \u001b[39mreturn\u001b[39;00m op\u001b[39m.\u001b[39mget_result()\n",
      "File \u001b[0;32m~/opt/anaconda3/lib/python3.8/site-packages/pandas/core/reshape/merge.py:620\u001b[0m, in \u001b[0;36m_MergeOperation.__init__\u001b[0;34m(self, left, right, how, on, left_on, right_on, axis, left_index, right_index, sort, suffixes, copy, indicator, validate)\u001b[0m\n\u001b[1;32m    614\u001b[0m     msg \u001b[39m=\u001b[39m (\n\u001b[1;32m    615\u001b[0m         \u001b[39m\"\u001b[39m\u001b[39mmerging between different levels can give an unintended \u001b[39m\u001b[39m\"\u001b[39m\n\u001b[1;32m    616\u001b[0m         \u001b[39m\"\u001b[39m\u001b[39mresult (\u001b[39m\u001b[39m{left}\u001b[39;00m\u001b[39m levels on the left, \u001b[39m\u001b[39m{right}\u001b[39;00m\u001b[39m on the right)\u001b[39m\u001b[39m\"\u001b[39m\n\u001b[1;32m    617\u001b[0m     )\u001b[39m.\u001b[39mformat(left\u001b[39m=\u001b[39m_left\u001b[39m.\u001b[39mcolumns\u001b[39m.\u001b[39mnlevels, right\u001b[39m=\u001b[39m_right\u001b[39m.\u001b[39mcolumns\u001b[39m.\u001b[39mnlevels)\n\u001b[1;32m    618\u001b[0m     warnings\u001b[39m.\u001b[39mwarn(msg, \u001b[39mUserWarning\u001b[39;00m)\n\u001b[0;32m--> 620\u001b[0m \u001b[39mself\u001b[39;49m\u001b[39m.\u001b[39;49m_validate_specification()\n\u001b[1;32m    622\u001b[0m \u001b[39m# note this function has side effects\u001b[39;00m\n\u001b[1;32m    623\u001b[0m (\n\u001b[1;32m    624\u001b[0m     \u001b[39mself\u001b[39m\u001b[39m.\u001b[39mleft_join_keys,\n\u001b[1;32m    625\u001b[0m     \u001b[39mself\u001b[39m\u001b[39m.\u001b[39mright_join_keys,\n\u001b[1;32m    626\u001b[0m     \u001b[39mself\u001b[39m\u001b[39m.\u001b[39mjoin_names,\n\u001b[1;32m    627\u001b[0m ) \u001b[39m=\u001b[39m \u001b[39mself\u001b[39m\u001b[39m.\u001b[39m_get_merge_keys()\n",
      "File \u001b[0;32m~/opt/anaconda3/lib/python3.8/site-packages/pandas/core/reshape/merge.py:1183\u001b[0m, in \u001b[0;36m_MergeOperation._validate_specification\u001b[0;34m(self)\u001b[0m\n\u001b[1;32m   1181\u001b[0m \u001b[39melif\u001b[39;00m \u001b[39mself\u001b[39m\u001b[39m.\u001b[39mleft_index:\n\u001b[1;32m   1182\u001b[0m     \u001b[39mif\u001b[39;00m \u001b[39mself\u001b[39m\u001b[39m.\u001b[39mright_on \u001b[39mis\u001b[39;00m \u001b[39mNone\u001b[39;00m:\n\u001b[0;32m-> 1183\u001b[0m         \u001b[39mraise\u001b[39;00m MergeError(\u001b[39m\"\u001b[39m\u001b[39mMust pass right_on or right_index=True\u001b[39m\u001b[39m\"\u001b[39m)\n\u001b[1;32m   1184\u001b[0m \u001b[39melif\u001b[39;00m \u001b[39mself\u001b[39m\u001b[39m.\u001b[39mright_index:\n\u001b[1;32m   1185\u001b[0m     \u001b[39mif\u001b[39;00m \u001b[39mself\u001b[39m\u001b[39m.\u001b[39mleft_on \u001b[39mis\u001b[39;00m \u001b[39mNone\u001b[39;00m:\n",
      "\u001b[0;31mMergeError\u001b[0m: Must pass right_on or right_index=True"
     ]
    }
   ],
   "source": [
    "#merge dataframes\n",
    "MAIN_FRAME = pd.merge(MTG_DF, HOUST_DF, left_index=True, right_index=True)\n",
    "\n",
    "print(MAIN_FRAME)\n"
   ]
  },
  {
   "cell_type": "code",
   "execution_count": 88,
   "metadata": {},
   "outputs": [],
   "source": [
    "#interpolate the less frequent observation to match the more frequent https://stackoverflow.com/questions/29612705/converting-pandas-dataframe-from-monthly-to-daily\n",
    "START_DATE = '2000-01-01'\n",
    "END_DATE = '2022-01-01'\n",
    "DATE_RANGE =  pd.date_range(START_DATE, END_DATE, freq='D')\n",
    "#print(DATE_RANGE)\n",
    "\n",
    "# pseudocode - grab the min date from all series, grab the max date from all series, past the values in matching dates, then interpolate"
   ]
  }
 ],
 "metadata": {
  "kernelspec": {
   "display_name": "base",
   "language": "python",
   "name": "python3"
  },
  "language_info": {
   "codemirror_mode": {
    "name": "ipython",
    "version": 3
   },
   "file_extension": ".py",
   "mimetype": "text/x-python",
   "name": "python",
   "nbconvert_exporter": "python",
   "pygments_lexer": "ipython3",
   "version": "3.8.3"
  },
  "vscode": {
   "interpreter": {
    "hash": "1d1ad25b9f47d2dd8c4c131cc3b642f4936352b92cd4ebf7a7c271d0de48bdb6"
   }
  }
 },
 "nbformat": 4,
 "nbformat_minor": 4
}
