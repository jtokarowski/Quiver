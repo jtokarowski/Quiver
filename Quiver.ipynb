{
 "cells": [
  {
   "cell_type": "code",
   "execution_count": 2,
   "metadata": {},
   "outputs": [
    {
     "name": "stdout",
     "output_type": "stream",
     "text": [
      "{\"realtime_start\":\"2023-01-13\",\"realtime_end\":\"2023-01-13\",\"order_by\":\"series_id\",\"sort_order\":\"asc\",\"count\":4,\"offset\":0,\"limit\":2,\"seriess\":[{\"id\":\"AITGCBN\",\"realtime_start\":\"2023-01-13\",\"realtime_end\":\"2023-01-13\",\"title\":\"Advance U.S. International Trade in Goods: Balance\",\"observation_start\":\"2022-11-01\",\"observation_end\":\"2022-11-01\",\"frequency\":\"Monthly\",\"frequency_short\":\"M\",\"units\":\"Millions of Dollars\",\"units_short\":\"Mil. of $\",\"seasonal_adjustment\":\"Not Seasonally Adjusted\",\"seasonal_adjustment_short\":\"NSA\",\"last_updated\":\"2022-12-27 07:31:05-06\",\"popularity\":2,\"group_popularity\":28,\"notes\":\"This advance estimate represents the current month statistics of nearly complete coverage. The current month statistics reflecting complete coverage is available on the Census website at the U.S. International Trade in Goods and Services report (FT-900) https:\\/\\/www.census.gov\\/foreign-trade\\/statistics\\/historical\\/index.html \\n\\nFor more information on data collection and methodology, see https:\\/\\/www.census.gov\\/econ\\/indicators\\/methodology.html\"},{\"id\":\"AITGCBS\",\"realtime_start\":\"2023-01-13\",\"realtime_end\":\"2023-01-13\",\"title\":\"Advance U.S. International Trade in Goods: Balance\",\"observation_start\":\"2022-11-01\",\"observation_end\":\"2022-11-01\",\"frequency\":\"Monthly\",\"frequency_short\":\"M\",\"units\":\"Millions of Dollars\",\"units_short\":\"Mil. of $\",\"seasonal_adjustment\":\"Seasonally Adjusted\",\"seasonal_adjustment_short\":\"SA\",\"last_updated\":\"2022-12-27 07:31:02-06\",\"popularity\":27,\"group_popularity\":28,\"notes\":\"This advance estimate represents the current month statistics of nearly complete coverage. The current month statistics reflecting complete coverage is available on the Census website at the U.S. International Trade in Goods and Services report (FT-900) https:\\/\\/www.census.gov\\/foreign-trade\\/statistics\\/historical\\/index.html, the corresponding series in FRED is at https:\\/\\/fred.stlouisfed.org\\/series\\/BOPGTB \\n\\nFor more information on data collection and methodology, see https:\\/\\/www.census.gov\\/econ\\/indicators\\/methodology.html\"}]}\n"
     ]
    }
   ],
   "source": [
    "#grab the required packages\n",
    "#%pip install pandas\n",
    "#%pip install FRB\n",
    "\n",
    "from fred import Fred\n",
    "import pandas as pd\n",
    "import os\n",
    "\n",
    "#FRED API KEY LOAD\n",
    "API_KEY = os.environ.get('FRED_API_KEY')\n",
    "\n",
    "#INIT THE CLIENT\n",
    "fr = Fred(api_key=API_KEY,response_type='json')\n",
    "\n",
    "params = {\n",
    "         'limit':2,\n",
    "         'tag_names':'trade;goods'\n",
    "         }\n",
    "\n",
    "res = fr.category.series(125,params=params)\n",
    "print(res)"
   ]
  },
  {
   "cell_type": "code",
   "execution_count": 4,
   "metadata": {},
   "outputs": [],
   "source": []
  }
 ],
 "metadata": {
  "kernelspec": {
   "display_name": "base",
   "language": "python",
   "name": "python3"
  },
  "language_info": {
   "codemirror_mode": {
    "name": "ipython",
    "version": 3
   },
   "file_extension": ".py",
   "mimetype": "text/x-python",
   "name": "python",
   "nbconvert_exporter": "python",
   "pygments_lexer": "ipython3",
   "version": "3.8.3"
  },
  "vscode": {
   "interpreter": {
    "hash": "1d1ad25b9f47d2dd8c4c131cc3b642f4936352b92cd4ebf7a7c271d0de48bdb6"
   }
  }
 },
 "nbformat": 4,
 "nbformat_minor": 4
}
